{
 "cells": [
  {
   "cell_type": "markdown",
   "id": "de1c0f5b",
   "metadata": {},
   "source": [
    "1.\tWhich of the following operators is used to calculate remainder in a division?\n",
    "       "
   ]
  },
  {
   "cell_type": "code",
   "execution_count": 5,
   "id": "5131550f",
   "metadata": {},
   "outputs": [
    {
     "name": "stdout",
     "output_type": "stream",
     "text": [
      "Remainder is: 1\n"
     ]
    }
   ],
   "source": [
    "# The Answer is %\n",
    "\n",
    "x = 5\n",
    "y = 2\n",
    "r = x % y\n",
    "print ('Remainder is:', r)"
   ]
  },
  {
   "cell_type": "markdown",
   "id": "8fab5ccc",
   "metadata": {},
   "source": [
    "2. In python 2//3 is equal to?"
   ]
  },
  {
   "cell_type": "code",
   "execution_count": 7,
   "id": "a64a5f0f",
   "metadata": {},
   "outputs": [
    {
     "name": "stdout",
     "output_type": "stream",
     "text": [
      "The answer is 1\n"
     ]
    }
   ],
   "source": [
    "X = 2\n",
    "y = 3\n",
    "r = x//y\n",
    "print ('The answer is' , r)"
   ]
  },
  {
   "cell_type": "markdown",
   "id": "c3efbad4",
   "metadata": {},
   "source": [
    "3.\tIn python, 6<<2 is equal to?"
   ]
  },
  {
   "cell_type": "code",
   "execution_count": 8,
   "id": "0841ef1c",
   "metadata": {},
   "outputs": [
    {
     "name": "stdout",
     "output_type": "stream",
     "text": [
      "The answer is 24\n"
     ]
    }
   ],
   "source": [
    "x = 6\n",
    "y = 2\n",
    "r = x<<y\n",
    "print ('The answer is' , r)"
   ]
  },
  {
   "cell_type": "markdown",
   "id": "8e836b32",
   "metadata": {},
   "source": [
    "4.\tIn python, 6&2 will give which of the following as output?"
   ]
  },
  {
   "cell_type": "code",
   "execution_count": 10,
   "id": "94a31944",
   "metadata": {},
   "outputs": [
    {
     "name": "stdout",
     "output_type": "stream",
     "text": [
      "The output is 2\n"
     ]
    }
   ],
   "source": [
    "x = 6\n",
    "y = 2\n",
    "r = x & y\n",
    "print ('The output is' , r)"
   ]
  },
  {
   "cell_type": "markdown",
   "id": "59d9c57a",
   "metadata": {},
   "source": [
    "5.\tIn python, 6|2 will give which of the following as output?"
   ]
  },
  {
   "cell_type": "code",
   "execution_count": 12,
   "id": "9ceec52d",
   "metadata": {},
   "outputs": [
    {
     "name": "stdout",
     "output_type": "stream",
     "text": [
      "The output is 6\n"
     ]
    }
   ],
   "source": [
    "x = 6\n",
    "y = 2\n",
    "r = x|y\n",
    "print ('The output is' , r)"
   ]
  },
  {
   "cell_type": "markdown",
   "id": "cf38a883",
   "metadata": {},
   "source": [
    "6.\tWhat does the finally keyword denotes in python?\n",
    "\n",
    "     A)\tIt is used to mark the end of the code"
   ]
  },
  {
   "cell_type": "markdown",
   "id": "ccca3e1a",
   "metadata": {},
   "source": [
    "7.\tWhat does raise keyword is used for in python?\n",
    "\n",
    "     A)\tIt is used to raise an exception."
   ]
  },
  {
   "cell_type": "markdown",
   "id": "f06744cb",
   "metadata": {},
   "source": [
    "8.\tWhich of the following is a common use case of yield keyword in python?\n",
    "\n",
    "    C) in defining a generator"
   ]
  },
  {
   "cell_type": "markdown",
   "id": "a8008cd8",
   "metadata": {},
   "source": [
    "10.\tWhich of the following are the keywords in python?"
   ]
  },
  {
   "cell_type": "code",
   "execution_count": 2,
   "id": "06f7efbc",
   "metadata": {},
   "outputs": [
    {
     "name": "stdout",
     "output_type": "stream",
     "text": [
      "['False', 'None', 'True', '__peg_parser__', 'and', 'as', 'assert', 'async', 'await', 'break', 'class', 'continue', 'def', 'del', 'elif', 'else', 'except', 'finally', 'for', 'from', 'global', 'if', 'import', 'in', 'is', 'lambda', 'nonlocal', 'not', 'or', 'pass', 'raise', 'return', 'try', 'while', 'with', 'yield']\n"
     ]
    }
   ],
   "source": [
    "import keyword\n",
    "\n",
    "print(keyword.kwlist)"
   ]
  },
  {
   "cell_type": "markdown",
   "id": "74d60913",
   "metadata": {},
   "source": [
    "A) yield\n",
    "B) raise"
   ]
  },
  {
   "cell_type": "markdown",
   "id": "1cc5842e",
   "metadata": {},
   "source": [
    "11.\tWrite a python program to find the factorial of a number."
   ]
  },
  {
   "cell_type": "code",
   "execution_count": 4,
   "id": "ec8cd380",
   "metadata": {},
   "outputs": [
    {
     "name": "stdout",
     "output_type": "stream",
     "text": [
      "Enter number: 5\n",
      "Factorial is 120\n"
     ]
    }
   ],
   "source": [
    "i=int(input(\"Enter number: \"))\n",
    "fact=1\n",
    "\n",
    "while(i>0):\n",
    "    fact=fact*i\n",
    "    i=i-1\n",
    "\n",
    "print ('Factorial is' , fact)"
   ]
  },
  {
   "cell_type": "markdown",
   "id": "eafb4bf7",
   "metadata": {},
   "source": [
    "12.\tWrite a python program to find whether a number is prime or composite"
   ]
  },
  {
   "cell_type": "code",
   "execution_count": 20,
   "id": "f2d74651",
   "metadata": {},
   "outputs": [
    {
     "name": "stdout",
     "output_type": "stream",
     "text": [
      "Enter number: 22\n",
      "Not a Prime Number\n"
     ]
    }
   ],
   "source": [
    "n=int(input(\"Enter number: \"))\n",
    "\n",
    "if n<2:\n",
    "    print (\"Not a Prime Number\")\n",
    "else:\n",
    "    for i in range (2,n):\n",
    "        if n%i==0:\n",
    "            print(\"Not a Prime Number\")\n",
    "            break\n",
    "    else:\n",
    "        print(n, 'is a Prime Number')"
   ]
  },
  {
   "cell_type": "markdown",
   "id": "cb53da4e",
   "metadata": {},
   "source": [
    "13.\tWrite a python program to check whether a given string is palindrome or not."
   ]
  },
  {
   "cell_type": "code",
   "execution_count": 31,
   "id": "e89e1896",
   "metadata": {},
   "outputs": [
    {
     "name": "stdout",
     "output_type": "stream",
     "text": [
      "Enter String: madam\n",
      "It is a Palindrome\n"
     ]
    }
   ],
   "source": [
    "a=input('Enter String: ')\n",
    "b=a[-1::-1]\n",
    "if(a==b):\n",
    "    print('It is a Palindrome')\n",
    "else:\n",
    "     print('It is not a Palindrome')"
   ]
  },
  {
   "cell_type": "markdown",
   "id": "36dfbe4e",
   "metadata": {},
   "source": [
    "14.\tWrite a Python program to get the third side of right-angled triangle from two given sides."
   ]
  },
  {
   "cell_type": "code",
   "execution_count": 33,
   "id": "a0c5af8c",
   "metadata": {},
   "outputs": [
    {
     "name": "stdout",
     "output_type": "stream",
     "text": [
      "Enter the lenth\n",
      "A: 20\n",
      "B: 100\n",
      "The lenght of 3rd Side is 101.9803902718557\n"
     ]
    }
   ],
   "source": [
    "from math import sqrt\n",
    "print('Enter the lenth')\n",
    "\n",
    "A=float(input(\"A: \"))\n",
    "B=float(input(\"B: \"))\n",
    "C=sqrt(A**2 + B**2)\n",
    "\n",
    "print('The lenght of 3rd Side is' , C)"
   ]
  },
  {
   "cell_type": "markdown",
   "id": "ed1c3469",
   "metadata": {},
   "source": [
    "15.\tWrite a python program to print the frequency of each of the characters present in a given string."
   ]
  },
  {
   "cell_type": "code",
   "execution_count": 43,
   "id": "ae0dcc2e",
   "metadata": {},
   "outputs": [
    {
     "name": "stdout",
     "output_type": "stream",
     "text": [
      "Enter String: hello everyone\n",
      "{'h': 1, 'e': 4, 'l': 2, 'o': 2, ' ': 1, 'v': 1, 'r': 1, 'y': 1, 'n': 1}\n"
     ]
    }
   ],
   "source": [
    "str=input('Enter String: ')\n",
    "l=list(str)\n",
    "freq=[l.count(ele) for ele in l]\n",
    "#print(freq)\n",
    "d=dict(zip(l, freq))\n",
    "print(d)"
   ]
  },
  {
   "cell_type": "code",
   "execution_count": null,
   "id": "186e9928",
   "metadata": {},
   "outputs": [],
   "source": []
  }
 ],
 "metadata": {
  "kernelspec": {
   "display_name": "Python 3 (ipykernel)",
   "language": "python",
   "name": "python3"
  },
  "language_info": {
   "codemirror_mode": {
    "name": "ipython",
    "version": 3
   },
   "file_extension": ".py",
   "mimetype": "text/x-python",
   "name": "python",
   "nbconvert_exporter": "python",
   "pygments_lexer": "ipython3",
   "version": "3.9.7"
  }
 },
 "nbformat": 4,
 "nbformat_minor": 5
}
